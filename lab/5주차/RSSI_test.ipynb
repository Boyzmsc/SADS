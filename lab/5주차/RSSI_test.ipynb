{
 "cells": [
  {
   "cell_type": "markdown",
   "metadata": {},
   "source": [
    "# RSSI만을 이용한 모델에서의 성능 평가"
   ]
  },
  {
   "cell_type": "markdown",
   "metadata": {},
   "source": [
    "### Data\n",
    "\n",
    "* **Distance**\n",
    "    * Distance between the Tag and the Attacker\n",
    "    * 0m, 1m, 2m\n",
    "\n",
    "\n",
    "* **Number of Data**\n",
    "    * Number of Data for Spoofing Attack Detection Prediction\n",
    "    * 50개, 100개, 500개\n",
    "    \n",
    "    \n",
    "* **Packet Speed**\n",
    "    * RSSI 값은 Packet Speed에 영향을 받지 않으므로 본 실험에선 제외\n",
    "    * Speed of the Beacon Data the Anchor Point receives\n",
    "    * Average Time Interval of **Fast** (0.03ms), **Normal** (0.13ms), **Slow** (0.35ms)\n",
    "  \n",
    "  \n",
    "* 총 27가지 상황의 데이터 수집\n",
    "    * 각 상황에 따라 100개의 파일로 수집\n",
    "    * 결론적으로 2700개의 데이터 파일 수집"
   ]
  },
  {
   "cell_type": "code",
   "execution_count": 1,
   "metadata": {},
   "outputs": [],
   "source": [
    "import pandas as pd\n",
    "import numpy as np\n",
    "import matplotlib.pyplot as plt"
   ]
  },
  {
   "cell_type": "code",
   "execution_count": 2,
   "metadata": {},
   "outputs": [],
   "source": [
    "# Kalman Filter\n",
    "class KalmanFilter():\n",
    "    def __init__(self, processNoise, measurementNoise):\n",
    "        super(KalmanFilter, self).__init__()\n",
    "        self.processNoise = processNoise # Process noise = 0.0005\n",
    "        self.measurementNoise = measurementNoise # Measurement noise = 20\n",
    "        self.estimatedRSSI = 0.0 # calculated rssi\n",
    "        self.errorCovarianceRSSI = 0.0 # calculated covariance\n",
    "        self.isInitialized = False # initialization flag\n",
    "\n",
    "    def applyFilter(self, rssi):\n",
    "        priorRSSI = 0.0\n",
    "        kalmanGain = 0.0\n",
    "        priorErrorCovarianceRSSI = 0.0\n",
    "\n",
    "        if not self.isInitialized:\n",
    "            priorRSSI = rssi\n",
    "            priorErrorCovarianceRSSI = 1\n",
    "            self.isInitialized = True\n",
    "        else:\n",
    "            priorRSSI = self.estimatedRSSI\n",
    "            priorErrorCovarianceRSSI = self.errorCovarianceRSSI + self.processNoise\n",
    "\n",
    "        kalmanGain = priorErrorCovarianceRSSI / (priorErrorCovarianceRSSI + self.measurementNoise)\n",
    "        self.estimatedRSSI = priorRSSI + (kalmanGain * (rssi - priorRSSI))\n",
    "        self.errorCovarianceRSSI = (1 - kalmanGain) * priorErrorCovarianceRSSI\n",
    "\n",
    "        return self.estimatedRSSI"
   ]
  },
  {
   "cell_type": "code",
   "execution_count": 3,
   "metadata": {},
   "outputs": [],
   "source": [
    "# Check incoming RSSI value in IQR range with Kalman Filter\n",
    "class RSSI():\n",
    "    def __init__(self):\n",
    "        self.rssi_arr = []\n",
    "        self.kf = KalmanFilter(processNoise=1, measurementNoise=1)\n",
    "        \n",
    "    # Resize RSSI array (Prevent overflow)\n",
    "    def full_arr(self):\n",
    "        del self.rssi_arr[:len(self.rssi_arr) - 100]\n",
    "\n",
    "    # Check incoming RSSI value in IQR range\n",
    "    def check_val(self, min, max, val):\n",
    "        if min < val < max:\n",
    "            return 0\n",
    "        else:\n",
    "            if val < min:\n",
    "                return min - val\n",
    "            else:\n",
    "                return val - max    \n",
    "\n",
    "    def add_rssi(self, rssi):\n",
    "        if len(self.rssi_arr) > 10000:\n",
    "            self.full_arr()\n",
    "\n",
    "        self.rssi_arr.append(self.kf.applyFilter(rssi))\n",
    "\n",
    "    # Check Interqurtile range (IQR) & RSSI Boundary\n",
    "    def check_rssi(self, curr, prev):\n",
    "        Q1 = np.percentile(self.rssi_arr, 25)\n",
    "        Q3 = np.percentile(self.rssi_arr, 75)\n",
    "        IQR = (Q3 - Q1) * 1.5\n",
    "\n",
    "        min = Q1 - IQR\n",
    "        max = Q3 + IQR\n",
    "\n",
    "        curr_val = self.check_val(min, max, self.kf.applyFilter(curr))\n",
    "        prev_val = self.check_val(min, max, self.kf.applyFilter(prev))\n",
    "\n",
    "        if curr_val == 0 and prev_val == 0:\n",
    "            # Not Spoofing Attack\n",
    "            return False\n",
    "        else:\n",
    "            # Spoofing Attack\n",
    "            return True\n",
    "        \n",
    "    # Check Interqurtile range (IQR) & RSSI Boundary\n",
    "    def check_iqr (self):\n",
    "        Q1 = np.percentile(self.rssi_arr, 25)\n",
    "        Q3 = np.percentile(self.rssi_arr, 75)\n",
    "        IQR = (Q3 - Q1) * 1.5\n",
    "\n",
    "        min = Q1 - IQR\n",
    "        max = Q3 + IQR\n",
    "\n",
    "        print(\"IQR :\", IQR)\n",
    "        print(\"Min RSSI :\", min)\n",
    "        print(\"Max RSSI :\", max)"
   ]
  },
  {
   "cell_type": "code",
   "execution_count": 4,
   "metadata": {},
   "outputs": [],
   "source": [
    "# Check Spoofing Attack according to Data files\n",
    "res = []\n",
    "    \n",
    "for i in range(1, 2701):\n",
    "    df = pd.read_csv('./data/data' + str(i) + '.csv')\n",
    "\n",
    "    df_rssi = df['rssi']\n",
    "\n",
    "    RSSI_d = RSSI()\n",
    "\n",
    "    for j in range(len(df_rssi)):\n",
    "        if j != len(df_rssi) - 1:\n",
    "            RSSI_d.add_rssi(df_rssi[j])\n",
    "        else:\n",
    "            spoof_check = RSSI_d.check_rssi(df_rssi[j], df_rssi[j-1])\n",
    "\n",
    "    if spoof_check:\n",
    "        res.append(True)\n",
    "    else:\n",
    "        res.append(False)"
   ]
  },
  {
   "cell_type": "code",
   "execution_count": 5,
   "metadata": {},
   "outputs": [
    {
     "name": "stdout",
     "output_type": "stream",
     "text": [
      "Number of entire files : 2700\n",
      "Entire Accuracy of detection : 67.5925925925926 %\n"
     ]
    }
   ],
   "source": [
    "# Check Entire Result\n",
    "print(\"Number of entire files :\",len(res))\n",
    "print(\"Entire Accuracy of detection :\", (res.count(True) / len(res)) * 100, \"%\")"
   ]
  },
  {
   "cell_type": "code",
   "execution_count": 6,
   "metadata": {},
   "outputs": [],
   "source": [
    "# Filter Result Data\n",
    "case_50 = res[0:300] + res[900:1200] + res[1800:2100]\n",
    "case_100 = res[300:600] + res[1200:1500] + res[2100:2400]\n",
    "case_500 = res[600:900] + res[1500:1800] + res[2400:2700]\n",
    "\n",
    "case_0 = res[0:100] + res[300:400] + res[600:700] + res[900:1000] + res[1200:1300] + res[1500:1600] + res[1800:1900] + res[2100:2200] + res[2400:2500]\n",
    "case_1 = res[100:200] + res[400:500] + res[700:800] + res[1000:1100] + res[1300:1400] + res[1600:1700] + res[1900:2000] + res[2200:2300] + res[2500:2600]\n",
    "case_2 = res[200:300] + res[500:600] + res[800:900] + res[1100:1200] + res[1400:1500] + res[1700:1800] + res[2000:2100] + res[2300:2400] + res[2600:2700]\n",
    "\n",
    "# Number of Data for Spoofing Attack Detection Prediction\n",
    "acc_50 = case_50.count(True)\n",
    "acc_100 = case_100.count(True)\n",
    "acc_500 = case_500.count(True)\n",
    "\n",
    "# Distance between Tag and Attacker\n",
    "acc_0 = case_0.count(True)\n",
    "acc_1 = case_1.count(True)\n",
    "acc_2 = case_2.count(True)"
   ]
  },
  {
   "cell_type": "code",
   "execution_count": 7,
   "metadata": {
    "scrolled": true
   },
   "outputs": [
    {
     "name": "stdout",
     "output_type": "stream",
     "text": [
      "< 예측 사용 데이터 갯수 >\n",
      "- 50개 : 67.88888888888889 %\n",
      "- 100개 : 67.44444444444444 %\n",
      "- 500개 : 67.44444444444444 %\n",
      "\n",
      "< 정상 Tag와 공격자 사이의 거리 >\n",
      "- 0m : 3.4444444444444446 %\n",
      "- 1m : 99.33333333333333 %\n",
      "- 2m : 100.0 %\n"
     ]
    }
   ],
   "source": [
    "# Check Filtered Result\n",
    "print(\"< 예측 사용 데이터 갯수 >\")\n",
    "print(\"- 50개 :\", acc_50 / len(case_50) * 100, \"%\")\n",
    "print(\"- 100개 :\", acc_100 / len(case_100) * 100, \"%\")\n",
    "print(\"- 500개 :\", acc_500 / len(case_500) * 100, \"%\")\n",
    "print(\"\\n< 정상 Tag와 공격자 사이의 거리 >\")\n",
    "print(\"- 0m :\", acc_0 / len(case_0) * 100, \"%\")\n",
    "print(\"- 1m :\", acc_1 / len(case_1) * 100, \"%\")\n",
    "print(\"- 2m :\", acc_2 / len(case_2) * 100, \"%\")"
   ]
  },
  {
   "cell_type": "code",
   "execution_count": 8,
   "metadata": {},
   "outputs": [
    {
     "data": {
      "image/png": "[encoded data removed]",
      "text/plain": [
       "<Figure size 432x288 with 1 Axes>"
      ]
     },
     "metadata": {
      "needs_background": "light"
     },
     "output_type": "display_data"
    }
   ],
   "source": [
    "x = np.arange(3)\n",
    "testCase_num = ['0m', '1m', '2m']\n",
    "values = [(acc_0 / len(case_0)) * 100, (acc_1 / len(case_1)) * 100, (acc_2 / len(case_2)) * 100 ]\n",
    "\n",
    "plt.bar(x, values)\n",
    "plt.xticks(x, testCase_num)\n",
    "plt.ylim([0, 100])\n",
    "plt.xlabel('Distance')\n",
    "plt.ylabel('Accuracy')\n",
    "\n",
    "plt.show()"
   ]
  },
  {
   "cell_type": "code",
   "execution_count": 9,
   "metadata": {
    "scrolled": true
   },
   "outputs": [
    {
     "data": {
      "image/png": "[encoded data removed]",
      "text/plain": [
       "<Figure size 432x288 with 1 Axes>"
      ]
     },
     "metadata": {
      "needs_background": "light"
     },
     "output_type": "display_data"
    }
   ],
   "source": [
    "x = np.arange(3)\n",
    "testCase_num = ['50', '100', '500']\n",
    "values = [(acc_50 / len(case_50)) * 100, (acc_100 / len(case_100)) * 100, (acc_500 / len(case_500)) * 100 ]\n",
    "\n",
    "plt.bar(x, values)\n",
    "plt.xticks(x, testCase_num)\n",
    "plt.ylim([0, 100])\n",
    "plt.xlabel('Number of Data')\n",
    "plt.ylabel('Accuracy')\n",
    "\n",
    "plt.show()"
   ]
  }
 ],
 "metadata": {
  "kernelspec": {
   "display_name": "Python 3",
   "language": "python",
   "name": "python3"
  },
  "language_info": {
   "codemirror_mode": {
    "name": "ipython",
    "version": 3
   },
   "file_extension": ".py",
   "mimetype": "text/x-python",
   "name": "python",
   "nbconvert_exporter": "python",
   "pygments_lexer": "ipython3",
   "version": "3.8.8"
  }
 },
 "nbformat": 4,
 "nbformat_minor": 4
}
