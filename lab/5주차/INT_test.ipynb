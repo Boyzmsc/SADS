{
 "cells": [
  {
   "cell_type": "markdown",
   "metadata": {},
   "source": [
    "# Time Interval만을 이용한 모델에서의 성능 평가"
   ]
  },
  {
   "cell_type": "markdown",
   "metadata": {},
   "source": [
    "### Data\n",
    "\n",
    "* **Distance**\n",
    "    * INT 값은 Distance에 영향을 받지 않으므로 본 실험에선 제외\n",
    "    * Distance between the Tag and the Attacker\n",
    "    * 0m, 1m, 2m\n",
    "\n",
    "\n",
    "* **Number of Data**\n",
    "    * Number of Data for Spoofing Attack Detection Prediction\n",
    "    * 50개, 100개, 500개\n",
    "    \n",
    "    \n",
    "* **Packet Speed**\n",
    "    * Speed of the Beacon Data the Anchor Point receives\n",
    "    * Average Time Interval of **Fast** (0.03ms), **Normal** (0.13ms), **Slow** (0.35ms)\n",
    "  \n",
    "  \n",
    "* 총 27가지 상황의 데이터 수집\n",
    "    * 각 상황에 따라 100개의 파일로 수집\n",
    "    * 결론적으로 2700개의 데이터 파일 수집"
   ]
  },
  {
   "cell_type": "code",
   "execution_count": 1,
   "metadata": {},
   "outputs": [],
   "source": [
    "import pandas as pd\n",
    "import numpy as np\n",
    "import matplotlib.pyplot as plt\n",
    "from statsmodels.tsa.api import Holt"
   ]
  },
  {
   "cell_type": "code",
   "execution_count": 2,
   "metadata": {},
   "outputs": [],
   "source": [
    "# Confidence Interval\n",
    "class Confidence():\n",
    "    def __init__(self, z, holt_z):\n",
    "        self.z = z  # 2.58, 99%의 신뢰구간\n",
    "        self.holt_z = holt_z # 3.219, 99.9%의 신뢰구간\n",
    "    \n",
    "    # 다음 수신 시간 간격 값을 예측하는데 방해되는 불안정한 데이터 수집 방지\n",
    "    def confidenceInterval(self, use_INT_arr):\n",
    "        return np.mean(use_INT_arr) + ( self.z * (np.std(use_INT_arr) / np.sqrt(len(use_INT_arr))) )\n",
    "\n",
    "    # 예측값을 기반으로 다음 수신 시간 간격의 하한값을 계산\n",
    "    def holtLower(self, fcast, se):\n",
    "        return fcast - ( self.holt_z * se )"
   ]
  },
  {
   "cell_type": "code",
   "execution_count": 3,
   "metadata": {},
   "outputs": [],
   "source": [
    "# Holt's Method\n",
    "class HoltMethod():\n",
    "    def __init__(self, a):\n",
    "        self.a = a # 0.1\n",
    "    \n",
    "    # 다음 수신 시간 간격 값을 예측\n",
    "    def holtForcast(self, use_INT_arr):\n",
    "        if len(use_INT_arr) < 10:\n",
    "            count = 10 - len(use_INT_arr)\n",
    "            \n",
    "            for i in range(count):\n",
    "                use_INT_arr.append(use_INT_arr[i])\n",
    "                \n",
    "        fit = Holt(use_INT_arr, initialization_method=\"estimated\").fit(smoothing_level=self.a)\n",
    "        return fit.forecast(1)[0]"
   ]
  },
  {
   "cell_type": "code",
   "execution_count": 4,
   "metadata": {},
   "outputs": [],
   "source": [
    "# Time Interval\n",
    "class INT():\n",
    "    def __init__(self, testCase, mini_range):\n",
    "        self.use_INT_arr = []\n",
    "        self.pre_time = 0\n",
    "        self.fcast = 0\n",
    "        self.power_sum = 0\n",
    "        self.se = 0\n",
    "        self.idx = 2\n",
    "        self.testCase = testCase\n",
    "        self.mini_range = mini_range\n",
    "\n",
    "        self.confi = Confidence(z = 2.58, holt_z= 3.219)\n",
    "        self.holt = HoltMethod(a = 0.1)\n",
    "\n",
    "    def full_arr(self):\n",
    "        del self.use_INT_arr[:len(self.use_INT_arr) - 100]\n",
    "\n",
    "    def check_INT(self, curr_time, test):\n",
    "        if len(self.use_INT_arr) > 10000:\n",
    "            self.full_arr()\n",
    "\n",
    "        if self.pre_time == 0:\n",
    "            self.pre_time = curr_time\n",
    "            return False\n",
    "\n",
    "        # 수신 시간 간격 계산\n",
    "        INT = curr_time - self.pre_time\n",
    "\n",
    "        if len(self.use_INT_arr) < 3 and INT < self.mini_range:\n",
    "            self.use_INT_arr.append(INT)\n",
    "            self.pre_time = curr_time\n",
    "            return False\n",
    "\n",
    "        # 계산된 수신 시간 간격이 신뢰 구간에 속하는지 검사\n",
    "        if INT < self.confi.confidenceInterval(self.use_INT_arr):\n",
    "            if len(self.use_INT_arr) > self.testCase :\n",
    "\n",
    "                if self.fcast == 0:\n",
    "                    self.fcast = self.holt.holtForcast(self.use_INT_arr)\n",
    "                    self.use_INT_arr.append(INT)\n",
    "                    self.pre_time = curr_time\n",
    "                    return False\n",
    "                \n",
    "                self.power_sum += np.power(INT - self.fcast, 2)\n",
    "\n",
    "                if self.se == 0:\n",
    "                    self.se = np.sqrt(self.power_sum / ( self.idx - 1))\n",
    "                    self.fcast = self.holt.holtForcast(self.use_INT_arr)\n",
    "                    self.use_INT_arr.append(INT)\n",
    "                    self.pre_time = curr_time\n",
    "                    self.idx += 1\n",
    "                    return False\n",
    "\n",
    "                fcast_pre = self.fcast\n",
    "                se_pre = self.se\n",
    "\n",
    "                self.fcast = self.holt.holtForcast(self.use_INT_arr)\n",
    "                lower = self.confi.holtLower(self.fcast, self.se)\n",
    "                self.se = np.sqrt(self.power_sum / ( self.idx - 1))\n",
    "                self.idx += 1\n",
    "            \n",
    "                # 계산된 수신 시간 간격이 예측된 하한값보다 작은지 검사\n",
    "                # 작다면 스푸핑 공격으로 간주\n",
    "                if INT < lower and test:\n",
    "                    self.fcast = fcast_pre\n",
    "                    self.se = se_pre\n",
    "                    self.power_sum -= np.power(INT - fcast_pre, 2)\n",
    "                    self.idx -= 1\n",
    "                    return True\n",
    "                \n",
    "            \n",
    "            if not test:\n",
    "                self.use_INT_arr.append(INT)\n",
    "                \n",
    "        self.pre_time = curr_time\n",
    "        return False"
   ]
  },
  {
   "cell_type": "code",
   "execution_count": 5,
   "metadata": {},
   "outputs": [
    {
     "name": "stderr",
     "output_type": "stream",
     "text": [
      "C:\\Users\\MSC\\anaconda3\\lib\\site-packages\\numpy\\core\\fromnumeric.py:3419: RuntimeWarning: Mean of empty slice.\n",
      "  return _methods._mean(a, axis=axis, dtype=dtype,\n",
      "C:\\Users\\MSC\\anaconda3\\lib\\site-packages\\numpy\\core\\_methods.py:188: RuntimeWarning: invalid value encountered in double_scalars\n",
      "  ret = ret.dtype.type(ret / rcount)\n",
      "C:\\Users\\MSC\\anaconda3\\lib\\site-packages\\numpy\\core\\_methods.py:261: RuntimeWarning: Degrees of freedom <= 0 for slice\n",
      "  ret = _var(a, axis=axis, dtype=dtype, out=out, ddof=ddof,\n",
      "C:\\Users\\MSC\\anaconda3\\lib\\site-packages\\numpy\\core\\_methods.py:221: RuntimeWarning: invalid value encountered in true_divide\n",
      "  arrmean = um.true_divide(arrmean, div, out=arrmean, casting='unsafe',\n",
      "C:\\Users\\MSC\\anaconda3\\lib\\site-packages\\numpy\\core\\_methods.py:253: RuntimeWarning: invalid value encountered in double_scalars\n",
      "  ret = ret.dtype.type(ret / rcount)\n"
     ]
    }
   ],
   "source": [
    "# Check Spoofing Attack according to Data files\n",
    "res = []\n",
    "    \n",
    "for i in range(1, 2701):\n",
    "    df = pd.read_csv('./data/data' + str(i) + '.csv')\n",
    "\n",
    "    df_time = df['time']\n",
    "\n",
    "    case = 10\n",
    "    if len(df_time) > 52:\n",
    "        case = 20\n",
    "    elif len(df_time) > 102:\n",
    "        case = 100\n",
    "    \n",
    "    mini_range = 0.3\n",
    "    if i >= 901 and i <= 1800:\n",
    "        mini_range = 0.17\n",
    "    elif i >= 1801 and i <= 2700:\n",
    "        mini_range = 0.05\n",
    "    \n",
    "    INT_d = INT(case, mini_range)\n",
    "\n",
    "    for j in range(len(df_time)):\n",
    "        if j < len(df_time) - 1:\n",
    "            INT_d.check_INT(df_time[j], False)\n",
    "        else:\n",
    "            spoof_check = INT_d.check_INT(df_time[j], True)\n",
    "\n",
    "    if spoof_check:\n",
    "        res.append(True)\n",
    "    else:\n",
    "        res.append(False)"
   ]
  },
  {
   "cell_type": "code",
   "execution_count": 6,
   "metadata": {},
   "outputs": [
    {
     "name": "stdout",
     "output_type": "stream",
     "text": [
      "Number of entire files : 2700\n",
      "Entire Accuracy of detection : 85.66666666666667 %\n"
     ]
    }
   ],
   "source": [
    "# Check Entire Result\n",
    "print(\"Number of entire files :\",len(res))\n",
    "print(\"Entire Accuracy of detection :\", (res.count(True) / len(res)) * 100, \"%\")"
   ]
  },
  {
   "cell_type": "code",
   "execution_count": 7,
   "metadata": {},
   "outputs": [],
   "source": [
    "# Filter Result Data\n",
    "case_50 = res[0:300] + res[900:1200] + res[1800:2100]\n",
    "case_100 = res[300:600] + res[1200:1500] + res[2100:2400]\n",
    "case_500 = res[600:900] + res[1500:1800] + res[2400:2700]\n",
    "\n",
    "case_fast = res[1800:2700]\n",
    "case_normal = res[900:1800]\n",
    "case_slow = res[0:900]\n",
    "\n",
    "# Number of Data for Spoofing Attack Detection Prediction\n",
    "acc_50 = case_50.count(True)\n",
    "acc_100 = case_100.count(True)\n",
    "acc_500 = case_500.count(True)\n",
    "\n",
    "# Packet Speed\n",
    "acc_fast = case_fast.count(True)\n",
    "acc_normal = case_normal.count(True)\n",
    "acc_slow = case_slow.count(True)"
   ]
  },
  {
   "cell_type": "code",
   "execution_count": 8,
   "metadata": {},
   "outputs": [
    {
     "name": "stdout",
     "output_type": "stream",
     "text": [
      "< 예측 사용 데이터 갯수 >\n",
      "- 50개 : 85.55555555555556 %\n",
      "- 100개 : 82.66666666666667 %\n",
      "- 500개 : 88.77777777777777 %\n",
      "\n",
      "< 광고 패킷 전송 속도 >\n",
      "- Fast (0.03ms) : 77.22222222222223 %\n",
      "- Normal (0.13ms) : 83.0 %\n",
      "- Slow (0.35ms) : 96.77777777777777 %\n"
     ]
    }
   ],
   "source": [
    "# Check Filtered Result\n",
    "print(\"< 예측 사용 데이터 갯수 >\")\n",
    "print(\"- 50개 :\", acc_50 / len(case_50) * 100, \"%\")\n",
    "print(\"- 100개 :\", acc_100 / len(case_100) * 100, \"%\")\n",
    "print(\"- 500개 :\", acc_500 / len(case_500) * 100, \"%\")\n",
    "print(\"\\n< 광고 패킷 전송 속도 >\")\n",
    "print(\"- Fast (0.03ms) :\", acc_fast / len(case_fast) * 100, \"%\")\n",
    "print(\"- Normal (0.13ms) :\", acc_normal / len(case_normal) * 100, \"%\")\n",
    "print(\"- Slow (0.35ms) :\", acc_slow / len(case_slow) * 100, \"%\")"
   ]
  },
  {
   "cell_type": "code",
   "execution_count": 9,
   "metadata": {},
   "outputs": [
    {
     "data": {
      "image/png": "[encoded data removed]",
      "text/plain": [
       "<Figure size 432x288 with 1 Axes>"
      ]
     },
     "metadata": {
      "needs_background": "light"
     },
     "output_type": "display_data"
    }
   ],
   "source": [
    "x = np.arange(3)\n",
    "testCase_num = ['50', '100', '500']\n",
    "values = [(acc_50 / len(case_50)) * 100, (acc_100 / len(case_100)) * 100, (acc_500 / len(case_500)) * 100 ]\n",
    "\n",
    "plt.bar(x, values)\n",
    "plt.xticks(x, testCase_num)\n",
    "plt.ylim([0, 100])\n",
    "plt.xlabel('Number of Data')\n",
    "plt.ylabel('Accuracy')\n",
    "\n",
    "plt.show()"
   ]
  },
  {
   "cell_type": "code",
   "execution_count": 10,
   "metadata": {},
   "outputs": [
    {
     "data": {
      "image/png": "[encoded data removed]",
      "text/plain": [
       "<Figure size 432x288 with 1 Axes>"
      ]
     },
     "metadata": {
      "needs_background": "light"
     },
     "output_type": "display_data"
    }
   ],
   "source": [
    "x = np.arange(3)\n",
    "testCase_num = ['Fast', 'Normal', 'Slow']\n",
    "values = [(acc_fast / len(case_fast)) * 100, (acc_normal / len(case_normal)) * 100, (acc_slow / len(case_slow)) * 100 ]\n",
    "\n",
    "plt.bar(x, values)\n",
    "plt.xticks(x, testCase_num)\n",
    "plt.ylim([0, 100])\n",
    "plt.xlabel('Packet Speed')\n",
    "plt.ylabel('Accuracy')\n",
    "\n",
    "plt.show()"
   ]
  }
 ],
 "metadata": {
  "kernelspec": {
   "display_name": "Python 3",
   "language": "python",
   "name": "python3"
  },
  "language_info": {
   "codemirror_mode": {
    "name": "ipython",
    "version": 3
   },
   "file_extension": ".py",
   "mimetype": "text/x-python",
   "name": "python",
   "nbconvert_exporter": "python",
   "pygments_lexer": "ipython3",
   "version": "3.8.8"
  }
 },
 "nbformat": 4,
 "nbformat_minor": 4
}
