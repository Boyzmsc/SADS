{
 "cells": [
  {
   "cell_type": "markdown",
   "id": "66ee3bca",
   "metadata": {},
   "source": [
    "# SADS 모델의 Unicast Phase 동작 검증\n",
    "\n",
    "* 공격자의 광고 패킷이 존재하지 않는다는 가정 하에 동작 검증\n",
    "* 사용자의 광고 패킷을 스푸핑 공격으로 감지하는 FN (= False Negative) 검증"
   ]
  },
  {
   "cell_type": "code",
   "execution_count": 8,
   "id": "96522723",
   "metadata": {},
   "outputs": [],
   "source": [
    "import pandas as pd\n",
    "import random"
   ]
  },
  {
   "cell_type": "code",
   "execution_count": 9,
   "id": "50c4b9bd",
   "metadata": {},
   "outputs": [],
   "source": [
    "# seed = 25632\n",
    "random.seed(\"25632\")"
   ]
  },
  {
   "cell_type": "code",
   "execution_count": 10,
   "id": "a9d55c83",
   "metadata": {},
   "outputs": [],
   "source": [
    "source_file = './data/false-negative/data1_fn.csv'\n",
    "\n",
    "df = pd.read_csv(source_file)\n",
    "df_time = df['time']"
   ]
  },
  {
   "cell_type": "code",
   "execution_count": 11,
   "id": "ac4c50df",
   "metadata": {},
   "outputs": [
    {
     "name": "stdout",
     "output_type": "stream",
     "text": [
      "최초 입력 시간 : 1641964485.5144866\n",
      "마지막 입력 시간 : 1641964899.6425989\n",
      "데이터 갯수 : 2000\n",
      "총 소요 시간 : 414.1281123161316\n"
     ]
    }
   ],
   "source": [
    "print(\"최초 입력 시간 :\", df_time[0])\n",
    "print(\"마지막 입력 시간 :\", df_time[len(df_time)-1])\n",
    "print(\"데이터 갯수 :\",len(df_time))\n",
    "print(\"총 소요 시간 :\", df_time[len(df_time)-1] - df_time[0])"
   ]
  },
  {
   "cell_type": "code",
   "execution_count": 12,
   "id": "36d1c01f",
   "metadata": {},
   "outputs": [
    {
     "name": "stdout",
     "output_type": "stream",
     "text": [
      "Time List's Length : 131\n"
     ]
    }
   ],
   "source": [
    "end_time = df_time[len(df_time)-1]\n",
    "curr_time = df_time[0]\n",
    "\n",
    "time_list = []\n",
    "time_list.append(curr_time)\n",
    "\n",
    "idx = 0\n",
    "\n",
    "# Time List's Odd Index => Promise Time's End\n",
    "# Time List's Even Index => Non-promise Time's End\n",
    "while (curr_time <= end_time):\n",
    "    \n",
    "    if idx % 2 == 0:\n",
    "        # Promise Time에서 Non-promise Time으로 넘어갈 때의 False Alarm 방지를 위한 유예 시간 (= 0.5)\n",
    "        v = random.randint(5, 7) + 0.5\n",
    "        time_list.append(curr_time + v)\n",
    "        curr_time += v\n",
    "    else:\n",
    "        # Non-promise Time에서 Promise Time으로 넘어갈 때의 False Alarm 방지를 위한 유예 시간 (= 0.5)\n",
    "        v = random.randint(2, 5) - 1\n",
    "        time_list.append(curr_time + v)\n",
    "        time_list.append(curr_time + v + 0.5)\n",
    "        curr_time = curr_time + v + 0.5\n",
    "        \n",
    "    idx += 1\n",
    "    \n",
    "print(\"Time List's Length :\", len(time_list))\n",
    "# print(\"Time List :\", time_list)"
   ]
  },
  {
   "cell_type": "code",
   "execution_count": 13,
   "id": "d416d346",
   "metadata": {},
   "outputs": [],
   "source": [
    "# False Negative\n",
    "# Non-promise Time일때 정상 Tag 감지\n",
    "np_true_cnt = 0\n",
    "\n",
    "idx = 0\n",
    "\n",
    "for i in range(df.shape[0]):\n",
    "    tmp = idx\n",
    "    \n",
    "    for j in range(idx, len(time_list)):\n",
    "        if(df.values[i][0] < time_list[j]):\n",
    "            tmp = j\n",
    "            break\n",
    "        \n",
    "    if(tmp % 3 == 2 and df.values[i][2] == True):\n",
    "        np_true_cnt += 1\n",
    "    \n",
    "    idx = tmp - 1"
   ]
  },
  {
   "cell_type": "code",
   "execution_count": 14,
   "id": "cff65b22",
   "metadata": {},
   "outputs": [
    {
     "name": "stdout",
     "output_type": "stream",
     "text": [
      "0\n"
     ]
    }
   ],
   "source": [
    "# np_true_cnt = False Alarm 감지 횟수\n",
    "# 값이 클수록 모델의 성능 오류가 높다는 뜻\n",
    "print(np_true_cnt)"
   ]
  }
 ],
 "metadata": {
  "interpreter": {
   "hash": "ad2bdc8ecc057115af97d19610ffacc2b4e99fae6737bb82f5d7fb13d2f2c186"
  },
  "kernelspec": {
   "display_name": "Python 3.9.7 ('base')",
   "language": "python",
   "name": "python3"
  },
  "language_info": {
   "codemirror_mode": {
    "name": "ipython",
    "version": 3
   },
   "file_extension": ".py",
   "mimetype": "text/x-python",
   "name": "python",
   "nbconvert_exporter": "python",
   "pygments_lexer": "ipython3",
   "version": "3.9.7"
  }
 },
 "nbformat": 4,
 "nbformat_minor": 5
}
