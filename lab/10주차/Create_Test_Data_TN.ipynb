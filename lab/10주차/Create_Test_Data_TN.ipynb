{
 "cells": [
  {
   "cell_type": "markdown",
   "id": "27a9fd21",
   "metadata": {},
   "source": [
    "# SADS 모델의 Unicast Phase 동작 검증을 위한 데이터 생성\n",
    "\n",
    "* 공격자의 광고 패킷이 존재한다는 가정 하에 동작 검증\n",
    "* 공격자의 광고 패킷이 연속적으로 수신되는 가정 하에 동작 검증\n",
    "* 공격자의 광고 패킷을 스푸핑 공격으로 감지하는 TN (= True Negative) 검증"
   ]
  },
  {
   "cell_type": "code",
   "execution_count": 1,
   "id": "409efd6a",
   "metadata": {},
   "outputs": [],
   "source": [
    "import csv\n",
    "import numpy as np\n",
    "import pandas as pd\n",
    "import random"
   ]
  },
  {
   "cell_type": "code",
   "execution_count": 2,
   "id": "08e6be24",
   "metadata": {},
   "outputs": [],
   "source": [
    "# seed = 25632\n",
    "random.seed(\"25632\")"
   ]
  },
  {
   "cell_type": "code",
   "execution_count": 3,
   "id": "47387841",
   "metadata": {},
   "outputs": [],
   "source": [
    "source_file = './data/original/data1.csv'\n",
    "write_file = './data/true-negative/data1_tn.csv'\n",
    "\n",
    "df = pd.read_csv(source_file)\n",
    "df_time = df['time']\n",
    "\n",
    "rf = open(source_file, 'r', encoding='utf-8')\n",
    "data = list(csv.reader(rf))\n",
    "\n",
    "wf = open(write_file, 'w', encoding='utf-8', newline='')\n",
    "wr = csv.writer(wf)"
   ]
  },
  {
   "cell_type": "code",
   "execution_count": 4,
   "id": "3901e019",
   "metadata": {},
   "outputs": [
    {
     "name": "stdout",
     "output_type": "stream",
     "text": [
      "최초 입력 시간 : 1641964485.5144866\n",
      "마지막 입력 시간 : 1641964899.6425989\n",
      "데이터 갯수 : 2000\n",
      "총 소요 시간 : 414.1281123161316\n"
     ]
    }
   ],
   "source": [
    "print(\"최초 입력 시간 :\", df_time[0])\n",
    "print(\"마지막 입력 시간 :\", df_time[len(df_time)-1])\n",
    "print(\"데이터 갯수 :\",len(df_time))\n",
    "print(\"총 소요 시간 :\", df_time[len(df_time)-1] - df_time[0])"
   ]
  },
  {
   "cell_type": "code",
   "execution_count": 5,
   "id": "e3bf6d50",
   "metadata": {},
   "outputs": [
    {
     "name": "stdout",
     "output_type": "stream",
     "text": [
      "Time List's Length : 88\n"
     ]
    }
   ],
   "source": [
    "end_time = df_time[len(df_time)-1]\n",
    "curr_time = df_time[0]\n",
    "\n",
    "time_list = []\n",
    "time_list.append(curr_time)\n",
    "\n",
    "idx = 0\n",
    "\n",
    "# Time List's Odd Index => Promise Time's End\n",
    "# Time List's Even Index => Non-promise Time's End\n",
    "while (curr_time <= end_time):\n",
    "    if idx % 2 == 0:\n",
    "        v = random.randint(5, 7)\n",
    "        time_list.append(curr_time + v)\n",
    "        curr_time += v\n",
    "    else:\n",
    "        v = random.randint(2, 5)\n",
    "        time_list.append(curr_time + v)\n",
    "        curr_time += v\n",
    "        \n",
    "    idx += 1\n",
    "\n",
    "print(\"Time List's Length :\", len(time_list))\n",
    "# print(\"Time List :\", time_list)"
   ]
  },
  {
   "cell_type": "code",
   "execution_count": 6,
   "id": "dbea8829",
   "metadata": {},
   "outputs": [
    {
     "name": "stdout",
     "output_type": "stream",
     "text": [
      "Random Index : 18\n"
     ]
    }
   ],
   "source": [
    "# Spoofing Data Input Index\n",
    "r_idx = random.randint(1, len(time_list) // 2)\n",
    "\n",
    "print(\"Random Index :\", r_idx)"
   ]
  },
  {
   "cell_type": "code",
   "execution_count": 7,
   "id": "0f0e7e09",
   "metadata": {},
   "outputs": [],
   "source": [
    "data_tn = []\n",
    "\n",
    "for i in range(1,len(data)):\n",
    "    row = data[i]\n",
    "    \n",
    "    # tmp = [time, rssi, isTag]\n",
    "    tmp = []\n",
    "    tmp.append(float(row[2]))\n",
    "    tmp.append(int(row[3]))\n",
    "    tmp.append(True)\n",
    "    \n",
    "    data_tn.append(tmp)\n",
    "\n",
    "# 사용자와 공격자 사이의 거리가 매우 가까움\n",
    "mean_rssi = np.mean(df['rssi'])\n",
    "\n",
    "# time_list[r_idx]부터 Spoofing Data 수신\n",
    "spoof_time = time_list[r_idx]\n",
    "\n",
    "# Spoofing Data가 연속적으로 끝까지 수신됨\n",
    "while spoof_time <= df_time[len(df_time)-1]:\n",
    "    # tmp = [time, rssi, isTag]\n",
    "    tmp = []\n",
    "    tmp.append(spoof_time)\n",
    "    tmp.append(mean_rssi)\n",
    "    tmp.append(False)\n",
    "    \n",
    "    data_tn.append(tmp)\n",
    "    \n",
    "    # 광고 패킷 평균 송신 시간 간격 (= 0.13)\n",
    "    spoof_time += 0.13\n",
    "    \n",
    "data_tn.sort()\n",
    "header = [\"time\", \"rssi\", \"isTag\"]\n",
    "data_tn.insert(0,header)\n",
    "\n",
    "for row in data_tn:\n",
    "    wr.writerow(row)\n",
    "\n",
    "wf.close()"
   ]
  }
 ],
 "metadata": {
  "interpreter": {
   "hash": "ad2bdc8ecc057115af97d19610ffacc2b4e99fae6737bb82f5d7fb13d2f2c186"
  },
  "kernelspec": {
   "display_name": "Python 3.9.7 ('base')",
   "language": "python",
   "name": "python3"
  },
  "language_info": {
   "codemirror_mode": {
    "name": "ipython",
    "version": 3
   },
   "file_extension": ".py",
   "mimetype": "text/x-python",
   "name": "python",
   "nbconvert_exporter": "python",
   "pygments_lexer": "ipython3",
   "version": "3.9.7"
  }
 },
 "nbformat": 4,
 "nbformat_minor": 5
}
