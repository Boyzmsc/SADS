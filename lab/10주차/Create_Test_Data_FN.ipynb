{
 "cells": [
  {
   "cell_type": "markdown",
   "id": "672a5f8b",
   "metadata": {},
   "source": [
    "# SADS 모델의 Unicast Phase 동작 검증을 위한 데이터 생성\n",
    "\n",
    "* 공격자의 광고 패킷이 존재하지 않는다는 가정 하에 동작 검증\n",
    "* 사용자의 광고 패킷을 스푸핑 공격으로 감지하는 FN (= False Negative) 검증"
   ]
  },
  {
   "cell_type": "code",
   "execution_count": 55,
   "id": "409efd6a",
   "metadata": {},
   "outputs": [],
   "source": [
    "import csv\n",
    "import numpy as np\n",
    "import pandas as pd\n",
    "import random"
   ]
  },
  {
   "cell_type": "code",
   "execution_count": 56,
   "id": "08e6be24",
   "metadata": {},
   "outputs": [],
   "source": [
    "# seed = 25632\n",
    "random.seed(\"25632\")"
   ]
  },
  {
   "cell_type": "code",
   "execution_count": 57,
   "id": "47387841",
   "metadata": {},
   "outputs": [],
   "source": [
    "source_file = './data/original/data1.csv'\n",
    "write_file = './data/false-negative/data1_fn.csv'\n",
    "\n",
    "df = pd.read_csv(source_file)\n",
    "df_time = df['time']\n",
    "\n",
    "rf = open(source_file, 'r', encoding='utf-8')\n",
    "data = list(csv.reader(rf))\n",
    "\n",
    "wf = open(write_file, 'w', encoding='utf-8', newline='')\n",
    "wr = csv.writer(wf)"
   ]
  },
  {
   "cell_type": "code",
   "execution_count": 58,
   "id": "3901e019",
   "metadata": {},
   "outputs": [
    {
     "name": "stdout",
     "output_type": "stream",
     "text": [
      "최초 입력 시간 : 1641970222.5956562\n",
      "마지막 입력 시간 : 1641970635.5978034\n",
      "데이터 갯수 : 2000\n",
      "총 소요 시간 : 413.0021471977234\n"
     ]
    }
   ],
   "source": [
    "print(\"최초 입력 시간 :\", df_time[0])\n",
    "print(\"마지막 입력 시간 :\", df_time[len(df_time)-1])\n",
    "print(\"데이터 갯수 :\",len(df_time))\n",
    "print(\"총 소요 시간 :\", df_time[len(df_time)-1] - df_time[0])"
   ]
  },
  {
   "cell_type": "code",
   "execution_count": 59,
   "id": "e3bf6d50",
   "metadata": {},
   "outputs": [
    {
     "name": "stdout",
     "output_type": "stream",
     "text": [
      "Time List's Length : 88\n"
     ]
    }
   ],
   "source": [
    "end_time = df_time[len(df_time)-1]\n",
    "curr_time = df_time[0]\n",
    "\n",
    "time_list = []\n",
    "time_list.append(curr_time)\n",
    "\n",
    "idx = 0\n",
    "\n",
    "# Time List's Odd Index => Promise Time's End\n",
    "# Time List's Even Index => Non-promise Time's End\n",
    "while (curr_time <= end_time):\n",
    "    if idx % 2 == 0:\n",
    "        v = random.randint(5, 7)\n",
    "        time_list.append(curr_time + v)\n",
    "        curr_time += v\n",
    "    else:\n",
    "        v = random.randint(2, 5)\n",
    "        time_list.append(curr_time + v)\n",
    "        curr_time += v\n",
    "        \n",
    "    idx += 1\n",
    "\n",
    "print(\"Time List's Length :\", len(time_list))\n",
    "# print(\"Time List :\", time_list)"
   ]
  },
  {
   "cell_type": "code",
   "execution_count": 60,
   "id": "0f0e7e09",
   "metadata": {},
   "outputs": [],
   "source": [
    "data_fn = []\n",
    "\n",
    "for i in range(1,len(data)):\n",
    "    row = data[i]\n",
    "    \n",
    "    # tmp = [time, rssi, isTag]\n",
    "    tmp = []\n",
    "    tmp.append(float(row[2]))\n",
    "    tmp.append(int(row[3]))\n",
    "    tmp.append(True)\n",
    "    \n",
    "    data_fn.append(tmp)\n",
    "\n",
    "data_fn.sort()\n",
    "header = [\"time\", \"rssi\", \"isTag\"]\n",
    "data_fn.insert(0,header)\n",
    "\n",
    "for row in data_fn:\n",
    "    wr.writerow(row)\n",
    "\n",
    "wf.close()"
   ]
  }
 ],
 "metadata": {
  "kernelspec": {
   "display_name": "Python 3",
   "language": "python",
   "name": "python3"
  },
  "language_info": {
   "codemirror_mode": {
    "name": "ipython",
    "version": 3
   },
   "file_extension": ".py",
   "mimetype": "text/x-python",
   "name": "python",
   "nbconvert_exporter": "python",
   "pygments_lexer": "ipython3",
   "version": "3.9.7"
  }
 },
 "nbformat": 4,
 "nbformat_minor": 5
}
