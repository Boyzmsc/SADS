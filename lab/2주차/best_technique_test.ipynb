{
 "cells": [
  {
   "cell_type": "markdown",
   "metadata": {},
   "source": [
    "# 시계열 데이터 예측 알고리즘 성능 비교"
   ]
  },
  {
   "cell_type": "markdown",
   "metadata": {},
   "source": [
    "### 비콘 메시지의 수신 시간 간격 계산 함수"
   ]
  },
  {
   "cell_type": "code",
   "execution_count": 1,
   "metadata": {},
   "outputs": [],
   "source": [
    "def calc_INT(time):\n",
    "    INT = np.array([])\n",
    "    \n",
    "    for i in range(1, len(time)):\n",
    "        INT = np.append(INT, df_time[i] - df_time[i-1])\n",
    "    \n",
    "    return INT"
   ]
  },
  {
   "cell_type": "code",
   "execution_count": 2,
   "metadata": {},
   "outputs": [],
   "source": [
    "def percentile(l, s):\n",
    "    if l < s:\n",
    "        return ( l / s ) / 980\n",
    "    else:\n",
    "        return ( s / l ) / 980"
   ]
  },
  {
   "cell_type": "code",
   "execution_count": 3,
   "metadata": {},
   "outputs": [],
   "source": [
    "import pandas as pd\n",
    "import numpy as np\n",
    "import time\n",
    "from statsmodels.tsa.api import ExponentialSmoothing, SimpleExpSmoothing, Holt\n",
    "import warnings\n",
    "warnings.filterwarnings(action='ignore')\n",
    "\n",
    "df = pd.read_csv('./data/gal_data1.csv')\n",
    "df_time = df['time']\n",
    "\n",
    "INT = calc_INT(df_time)\n",
    "INT_p = INT[21:]"
   ]
  },
  {
   "cell_type": "markdown",
   "metadata": {},
   "source": [
    "### 지수평활, 홀트-선형 추세, 홀트-지수 추세, 홀트-윈터스 계절 기법 성능 비교"
   ]
  },
  {
   "cell_type": "code",
   "execution_count": 4,
   "metadata": {},
   "outputs": [],
   "source": [
    "SES = np.array([])\n",
    "HM = np.array([]) \n",
    "HME = np.array([])\n",
    "HW = np.array([])\n",
    "\n",
    "SES_time = 0\n",
    "HM_time = 0\n",
    "HME_time = 0\n",
    "HW_time = 0"
   ]
  },
  {
   "cell_type": "code",
   "execution_count": 5,
   "metadata": {},
   "outputs": [],
   "source": [
    "start = time.time()\n",
    "for i in range(20, len(INT)):\n",
    "    fit1 = SimpleExpSmoothing(INT[:i], initialization_method=\"estimated\").fit()\n",
    "    SES = np.append(SES, fit1.forecast(1)[0])\n",
    "SES_time = time.time() - start\n",
    "\n",
    "start = time.time()\n",
    "for i in range(20, len(INT)):\n",
    "    fit2 = Holt(INT[:i], initialization_method=\"estimated\").fit()\n",
    "    HM = np.append(HM, fit2.forecast(1)[0])\n",
    "HM_time = time.time() - start\n",
    "\n",
    "start = time.time()\n",
    "for i in range(20, len(INT)):\n",
    "    fit3 = Holt(INT[:i], exponential=True, initialization_method=\"estimated\").fit()\n",
    "    HME = np.append(HME, fit3.forecast(1)[0])\n",
    "HME_time = time.time() - start\n",
    "\n",
    "start = time.time()\n",
    "for i in range(20, len(INT)):\n",
    "    fit4 = ExponentialSmoothing(INT[:i], seasonal_periods=4, trend=\"add\", seasonal=\"add\", use_boxcox=True, initialization_method=\"estimated\").fit()\n",
    "    HW = np.append(HW, fit4.forecast(1)[0])\n",
    "HW_time = time.time() - start\n"
   ]
  },
  {
   "cell_type": "code",
   "execution_count": 6,
   "metadata": {},
   "outputs": [],
   "source": [
    "SES_p = np.array([])\n",
    "HM_p = np.array([]) \n",
    "HME_p = np.array([])\n",
    "HW_p = np.array([])\n",
    "\n",
    "for i in range(0, len(INT_p)):\n",
    "    SES_p = np.append(SES_p, percentile(INT_p[i], SES[i]))\n",
    "    HM_p = np.append(HM_p, percentile(INT_p[i], HM[i]))    \n",
    "    HME_p = np.append(HME_p, percentile(INT_p[i], HME[i]))    \n",
    "    HW_p = np.append(HW_p, percentile(INT_p[i], HW[i]))    "
   ]
  },
  {
   "cell_type": "code",
   "execution_count": 7,
   "metadata": {},
   "outputs": [
    {
     "name": "stdout",
     "output_type": "stream",
     "text": [
      "SES Accuracy:  0.8311869417821911\n",
      "SES Time:  6.08599853515625\n",
      "\n",
      "Holt Linear Accuracy:  0.8415306038975895\n",
      "HM Time:  35.355321407318115\n",
      "\n",
      "Holt Exponential Accuracy:  0.8409678176123869\n",
      "HME Time:  40.081098318099976\n",
      "\n",
      "Holt-Winters Accuracy:  0.9115327366172779\n",
      "HW Time:  171.71415400505066\n"
     ]
    }
   ],
   "source": [
    "print('SES Accuracy: ', np.sum(SES_p))\n",
    "print('SES Time: ', SES_time)\n",
    "print('')\n",
    "print('Holt Linear Accuracy: ', np.sum(HM_p))\n",
    "print('HM Time: ', HM_time)\n",
    "print('')\n",
    "print('Holt Exponential Accuracy: ', np.sum(HME_p))\n",
    "print('HME Time: ', HME_time)\n",
    "print('')\n",
    "print('Holt-Winters Accuracy: ', np.sum(HW_p))\n",
    "print('HW Time: ', HW_time)"
   ]
  }
 ],
 "metadata": {
  "kernelspec": {
   "display_name": "Python 3",
   "language": "python",
   "name": "python3"
  },
  "language_info": {
   "codemirror_mode": {
    "name": "ipython",
    "version": 3
   },
   "file_extension": ".py",
   "mimetype": "text/x-python",
   "name": "python",
   "nbconvert_exporter": "python",
   "pygments_lexer": "ipython3",
   "version": "3.8.5"
  }
 },
 "nbformat": 4,
 "nbformat_minor": 4
}
