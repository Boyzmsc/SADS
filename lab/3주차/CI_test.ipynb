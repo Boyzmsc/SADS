{
 "cells": [
  {
   "cell_type": "markdown",
   "metadata": {},
   "source": [
    "# 신뢰구간을 활용한 예측에 사용되는 데이터 필터링"
   ]
  },
  {
   "cell_type": "markdown",
   "metadata": {},
   "source": [
    "## 문제점\n",
    "\n",
    "수집된 비콘 메시지의 평균 시간 간격은 0.15ms이다. 하지만 실제 데이터의 분포를 출력해보면 평균값과 차이가 큰 이상치가 많은 것을 확인할 수 있다. 이러한 이상치는 다음 시간 간격 값을 정밀히 예측하는데 문제를 발생시키고, 더 나아가 스푸핑 공격을 감지하는데 큰 영향을 미칠 수 있다."
   ]
  },
  {
   "cell_type": "code",
   "execution_count": 1,
   "metadata": {},
   "outputs": [],
   "source": [
    "def calc_INT(time):\n",
    "    INT = np.array([])\n",
    "    \n",
    "    for i in range(1, len(time)):\n",
    "        INT = np.append(INT, df_time[i] - df_time[i-1])\n",
    "    \n",
    "    return INT"
   ]
  },
  {
   "cell_type": "code",
   "execution_count": 2,
   "metadata": {},
   "outputs": [
    {
     "name": "stdout",
     "output_type": "stream",
     "text": [
      "Average INT:  0.15392834037453026\n"
     ]
    }
   ],
   "source": [
    "import pandas as pd\n",
    "import numpy as np\n",
    "import time\n",
    "from statsmodels.tsa.api import Holt\n",
    "import warnings\n",
    "warnings.filterwarnings(action='ignore')\n",
    "\n",
    "df = pd.read_csv('./data/gal_data1.csv')\n",
    "df_time = df['time']\n",
    "\n",
    "INT = calc_INT(df_time)\n",
    "INT_p = INT[21:]\n",
    "print('Average INT: ', np.mean(INT))"
   ]
  },
  {
   "cell_type": "code",
   "execution_count": 3,
   "metadata": {},
   "outputs": [
    {
     "data": {
      "image/png": "[encoded data removed]",
      "text/plain": [
       "<Figure size 432x288 with 1 Axes>"
      ]
     },
     "metadata": {
      "needs_background": "light"
     },
     "output_type": "display_data"
    }
   ],
   "source": [
    "import matplotlib.pyplot as plt\n",
    "\n",
    "plt.plot(INT)\n",
    "plt.xlabel('The Number of Data')\n",
    "plt.ylabel('Time Interval')\n",
    "plt.ylim(0.1, 0.55)\n",
    "plt.show()"
   ]
  },
  {
   "cell_type": "code",
   "execution_count": 4,
   "metadata": {},
   "outputs": [],
   "source": [
    "def percentile(l, s, size):\n",
    "    if l < s:\n",
    "        return ( l / s ) / size\n",
    "    else:\n",
    "        return ( s / l ) / size"
   ]
  },
  {
   "cell_type": "code",
   "execution_count": 5,
   "metadata": {},
   "outputs": [
    {
     "name": "stdout",
     "output_type": "stream",
     "text": [
      "Accuracy:  0.8409678176123869\n"
     ]
    }
   ],
   "source": [
    "HM = np.array([])\n",
    "\n",
    "for i in range(20, len(INT)):\n",
    "    fit = Holt(INT[:i], exponential=True, initialization_method=\"estimated\").fit()\n",
    "    HM = np.append(HM, fit.forecast(1)[0])\n",
    "\n",
    "HM_p = np.array([])\n",
    "\n",
    "for i in range(0, len(INT_p)): \n",
    "    HM_p = np.append(HM_p, percentile(INT_p[i], HM[i], len(INT_p)))     \n",
    "\n",
    "print('Accuracy: ', np.sum(HM_p))"
   ]
  },
  {
   "cell_type": "markdown",
   "metadata": {},
   "source": [
    "## 신뢰구간 활용\n",
    "\n",
    "신뢰구간을 활용하여 예측에 사용되는 시간 간격 데이터를 필터링한다. 신뢰구간으로 필터링 된 데이터는 다음 시간 간격을 예측하는데 사용된다. 위 신뢰구간을 적용하지 않은 그림과 비교했을 때, 이상치가 크게 줄어든 것을 확인할 수 있다. 그리고 다음 시간 간격 값의 예측 정확도 또한 84%에서 99%로 크게 상승하였다."
   ]
  },
  {
   "cell_type": "code",
   "execution_count": 6,
   "metadata": {},
   "outputs": [],
   "source": [
    "class Confidence():\n",
    "    def __init__(self, z):\n",
    "        self.z = z  # 2.58\n",
    "\n",
    "    def confidenceInterval(self, use_INT_arr):\n",
    "        return np.mean(use_INT_arr) + ( self.z * (np.std(use_INT_arr) / np.sqrt(len(use_INT_arr))) )"
   ]
  },
  {
   "cell_type": "code",
   "execution_count": 7,
   "metadata": {},
   "outputs": [],
   "source": [
    "def calc_INT(time):\n",
    "    INT = np.array([])\n",
    "    INT_p = np.array([])\n",
    "    confi = Confidence(z = 2.58)\n",
    "    \n",
    "    for i in range(1, len(time)):\n",
    "        INT_c = df_time[i] - df_time[i-1]\n",
    "        \n",
    "        if len(INT) < 3:\n",
    "             INT = np.append(INT, INT_c)\n",
    "             continue\n",
    "        \n",
    "        if INT_c < confi.confidenceInterval(INT):\n",
    "            INT = np.append(INT, INT_c)\n",
    "            \n",
    "            if len(INT) > 20:\n",
    "                INT_p = np.append(INT_p, INT_c)\n",
    "            \n",
    "    \n",
    "    return INT, INT_p"
   ]
  },
  {
   "cell_type": "code",
   "execution_count": 8,
   "metadata": {},
   "outputs": [
    {
     "name": "stdout",
     "output_type": "stream",
     "text": [
      "Average INT:  0.1300412954482357\n"
     ]
    }
   ],
   "source": [
    "df = pd.read_csv('./data/gal_data1.csv')\n",
    "df_time = df['time']\n",
    "\n",
    "INT, INT_p = calc_INT(df_time)\n",
    "print('Average INT: ', np.mean(INT))"
   ]
  },
  {
   "cell_type": "code",
   "execution_count": 9,
   "metadata": {},
   "outputs": [
    {
     "data": {
      "image/png": "[encoded data removed]",
      "text/plain": [
       "<Figure size 432x288 with 1 Axes>"
      ]
     },
     "metadata": {
      "needs_background": "light"
     },
     "output_type": "display_data"
    }
   ],
   "source": [
    "plt.plot(INT)\n",
    "plt.xlabel('The Number of Data')\n",
    "plt.ylabel('Time Interval')\n",
    "plt.ylim(0.1, 0.55)\n",
    "plt.show()"
   ]
  },
  {
   "cell_type": "code",
   "execution_count": 10,
   "metadata": {},
   "outputs": [
    {
     "name": "stdout",
     "output_type": "stream",
     "text": [
      "Accuracy:  0.9944729202934315\n"
     ]
    }
   ],
   "source": [
    "HM = np.array([])\n",
    "\n",
    "for i in range(20, len(INT)):\n",
    "    fit = Holt(INT[:i], exponential=True, initialization_method=\"estimated\").fit()\n",
    "    HM = np.append(HM, fit.forecast(1)[0])\n",
    "\n",
    "HM_p = np.array([])\n",
    "\n",
    "for i in range(0, len(INT_p)): \n",
    "    HM_p = np.append(HM_p, percentile(INT_p[i], HM[i], len(INT_p)))     \n",
    "\n",
    "print('Accuracy: ', np.sum(HM_p))"
   ]
  }
 ],
 "metadata": {
  "kernelspec": {
   "display_name": "Python 3",
   "language": "python",
   "name": "python3"
  },
  "language_info": {
   "codemirror_mode": {
    "name": "ipython",
    "version": 3
   },
   "file_extension": ".py",
   "mimetype": "text/x-python",
   "name": "python",
   "nbconvert_exporter": "python",
   "pygments_lexer": "ipython3",
   "version": "3.8.5"
  }
 },
 "nbformat": 4,
 "nbformat_minor": 4
}
