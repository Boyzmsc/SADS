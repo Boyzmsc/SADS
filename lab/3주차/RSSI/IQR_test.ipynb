{
 "cells": [
  {
   "cell_type": "markdown",
   "id": "0e347e50",
   "metadata": {},
   "source": [
    "# RSSI & IQR 방식을 이용한 스푸핑 공격 감지"
   ]
  },
  {
   "cell_type": "markdown",
   "id": "177cbd5c",
   "metadata": {},
   "source": [
    "IQR 방식을 도입하여 우리의 BLE 장치의 RSSI 이상치 값의 범위를 설정한다.   \n",
    "이후에 Anchor Point (AP)로부터 거리가 각각 다른 스푸핑 공격 데이터가 있다고 가정할 때의 IQR 방식을 도입한 시스템의 스푸핑 공격 감지 정확도를 측정한다."
   ]
  },
  {
   "cell_type": "code",
   "execution_count": 1,
   "id": "c000856b",
   "metadata": {},
   "outputs": [],
   "source": [
    "import pandas as pd\n",
    "import numpy as np\n",
    "import matplotlib.pyplot as plt"
   ]
  },
  {
   "cell_type": "code",
   "execution_count": 2,
   "id": "66dea3d9",
   "metadata": {},
   "outputs": [],
   "source": [
    "# Check incoming RSSI value in IQR range\n",
    "def check_val(min, max, val):\n",
    "    if min < val < max:\n",
    "        return 0\n",
    "    else:\n",
    "        if val < min:\n",
    "            return min - val\n",
    "        else:\n",
    "            return val - max\n",
    "        \n",
    "# Using Interqurtile range (IQR)\n",
    "# Check Spoofing Attack\n",
    "def check_rssi(rssi_arr, curr, prev):\n",
    "    Q1 = np.percentile(rssi_arr, 25)\n",
    "    Q3 = np.percentile(rssi_arr, 75)\n",
    "    IQR = (Q3 - Q1) * 1.5\n",
    "\n",
    "    min = Q1 - IQR\n",
    "    max = Q3 + IQR\n",
    "\n",
    "    curr_val = check_val(min, max, curr)\n",
    "    prev_val = check_val(min, max, prev)\n",
    "\n",
    "    if curr_val == 0 and prev_val == 0:\n",
    "        # Not Spoofing Attack\n",
    "        return False\n",
    "    else:\n",
    "        # Spoofing Attack\n",
    "        return True\n",
    "    \n",
    "# Check Interqurtile range (IQR) & RSSI Boundary\n",
    "def check_iqr (rssi_arr):\n",
    "    Q1 = np.percentile(rssi_arr, 25)\n",
    "    Q3 = np.percentile(rssi_arr, 75)\n",
    "    IQR = (Q3 - Q1) * 1.5\n",
    "\n",
    "    min = Q1 - IQR\n",
    "    max = Q3 + IQR\n",
    "    \n",
    "    print(\"IQR :\", IQR)\n",
    "    print(\"Min RSSI :\", min)\n",
    "    print(\"Max RSSI :\", max)"
   ]
  },
  {
   "cell_type": "markdown",
   "id": "f20b949e",
   "metadata": {},
   "source": [
    "### Data\n",
    "* Anchor Point (AP)로부터 약 0.5m 떨어진 지점에서 정상 BLE 장치의 비콘 메시지 수집\n",
    "* 약 10000 (= 1000 * 10)개의 데이터 수집\n",
    "\n",
    "### Progress\n",
    "* 약 1000개의 정상 BLE 장치의 비콘 메시지가 들어온 후\n",
    "* Anchor Point (AP)로부터 서로 다른 거리로부터 들어오는 스푸핑 공격이 있다고 가정"
   ]
  },
  {
   "cell_type": "code",
   "execution_count": 3,
   "id": "da8a504c",
   "metadata": {},
   "outputs": [
    {
     "name": "stdout",
     "output_type": "stream",
     "text": [
      "--------------------------------------------------\n",
      "File : ./data/gal_data1.csv\n",
      "Number of Beacon Message : 1002\n",
      "Average RSSI : -65.47604790419162\n",
      "IQR : 4.5\n",
      "Min RSSI : -71.5\n",
      "Max RSSI : -59.5\n",
      "--------------------------------------------------\n",
      "File : ./data/gal_data2.csv\n",
      "Number of Beacon Message : 1002\n",
      "Average RSSI : -65.31037924151697\n",
      "IQR : 4.125\n",
      "Min RSSI : -70.875\n",
      "Max RSSI : -59.875\n",
      "--------------------------------------------------\n",
      "File : ./data/gal_data3.csv\n",
      "Number of Beacon Message : 1002\n",
      "Average RSSI : -65.23952095808383\n",
      "IQR : 6.0\n",
      "Min RSSI : -73.0\n",
      "Max RSSI : -57.0\n",
      "--------------------------------------------------\n",
      "File : ./data/gal_data4.csv\n",
      "Number of Beacon Message : 1002\n",
      "Average RSSI : -64.30738522954091\n",
      "IQR : 4.5\n",
      "Min RSSI : -70.5\n",
      "Max RSSI : -58.5\n",
      "--------------------------------------------------\n",
      "File : ./data/gal_data5.csv\n",
      "Number of Beacon Message : 1002\n",
      "Average RSSI : -65.37924151696606\n",
      "IQR : 4.5\n",
      "Min RSSI : -71.5\n",
      "Max RSSI : -59.5\n",
      "--------------------------------------------------\n",
      "File : ./data/gal_data6.csv\n",
      "Number of Beacon Message : 1002\n",
      "Average RSSI : -65.34830339321357\n",
      "IQR : 4.5\n",
      "Min RSSI : -71.5\n",
      "Max RSSI : -59.5\n",
      "--------------------------------------------------\n",
      "File : ./data/gal_data7.csv\n",
      "Number of Beacon Message : 1002\n",
      "Average RSSI : -64.2055888223553\n",
      "IQR : 6.0\n",
      "Min RSSI : -72.0\n",
      "Max RSSI : -56.0\n",
      "--------------------------------------------------\n",
      "File : ./data/gal_data8.csv\n",
      "Number of Beacon Message : 1002\n",
      "Average RSSI : -64.95109780439122\n",
      "IQR : 7.125\n",
      "Min RSSI : -74.125\n",
      "Max RSSI : -55.125\n",
      "--------------------------------------------------\n",
      "File : ./data/gal_data9.csv\n",
      "Number of Beacon Message : 1002\n",
      "Average RSSI : -65.28642714570859\n",
      "IQR : 6.0\n",
      "Min RSSI : -73.0\n",
      "Max RSSI : -57.0\n"
     ]
    }
   ],
   "source": [
    "# Read Data Files\n",
    "df = []\n",
    "df_rssi = []\n",
    "\n",
    "for i in range(1,10):\n",
    "    file = './data/gal_data' + str(i) + '.csv'\n",
    "    \n",
    "    tmp = pd.read_csv(file)\n",
    "    tmp_rssi = tmp['rssi']\n",
    "    \n",
    "    df.append(tmp)\n",
    "    df_rssi.append(tmp_rssi)\n",
    "    \n",
    "    print('-'*50)\n",
    "    print(\"File :\", file)\n",
    "    print(\"Number of Beacon Message :\", tmp.shape[0])\n",
    "    print(\"Average RSSI :\", np.mean(tmp_rssi))\n",
    "    check_iqr(tmp_rssi)"
   ]
  },
  {
   "cell_type": "markdown",
   "id": "8a87b2f1",
   "metadata": {},
   "source": [
    "### Anchor Point (AP)로부터 거리에 따른 전반적인 RSSI 값\n",
    "* 0cm = -38\n",
    "* 10cm = -48\n",
    "* 25cm = -57\n",
    "* 50cm = -64\n",
    "* 1m = -72"
   ]
  },
  {
   "cell_type": "code",
   "execution_count": 4,
   "id": "47a78ede",
   "metadata": {},
   "outputs": [],
   "source": [
    "# Different RSSI Value depending on the Distance\n",
    "# Create Custom Spoofing Data\n",
    "spoof_distance = ['0cm', '10cm', '25cm', '50cm', '1m']\n",
    "spoof_data = [-38, -48, -57, -64, -72]"
   ]
  },
  {
   "cell_type": "code",
   "execution_count": 5,
   "id": "6a10bab3",
   "metadata": {},
   "outputs": [
    {
     "name": "stdout",
     "output_type": "stream",
     "text": [
      "--------------------------------------------------\n",
      "Spoofing Data's Distance : 0cm\n",
      "Spoofing Data's RSSI : -38\n",
      "Detection Accuracy : 100.0 %\n",
      "--------------------------------------------------\n",
      "Spoofing Data's Distance : 10cm\n",
      "Spoofing Data's RSSI : -48\n",
      "Detection Accuracy : 100.0 %\n",
      "--------------------------------------------------\n",
      "Spoofing Data's Distance : 25cm\n",
      "Spoofing Data's RSSI : -57\n",
      "Detection Accuracy : 55.55555555555556 %\n",
      "--------------------------------------------------\n",
      "Spoofing Data's Distance : 50cm\n",
      "Spoofing Data's RSSI : -64\n",
      "Detection Accuracy : 0.0 %\n",
      "--------------------------------------------------\n",
      "Spoofing Data's Distance : 1m\n",
      "Spoofing Data's RSSI : -72\n",
      "Detection Accuracy : 66.66666666666666 %\n"
     ]
    }
   ],
   "source": [
    "# Check Detection Accuracy\n",
    "acc_arr = []\n",
    "\n",
    "for i in range(5):\n",
    "    acc = []\n",
    "    for j in range(9):\n",
    "        acc.append(check_rssi(df_rssi[j], spoof_data[i], df_rssi[j][1001]))\n",
    "    acc_arr.append(acc)\n",
    "    \n",
    "acc_arr\n",
    "acc_v = []\n",
    "for i in range(5):\n",
    "    print('-'*50)\n",
    "    print(\"Spoofing Data's Distance :\", spoof_distance[i])\n",
    "    print(\"Spoofing Data's RSSI :\", spoof_data[i])\n",
    "    print(\"Detection Accuracy :\", acc_arr[i].count(True)/ len(acc_arr[i])*100, \"%\")\n",
    "    acc_v.append(acc_arr[i].count(True)/ len(acc_arr[i])*100)"
   ]
  },
  {
   "cell_type": "code",
   "execution_count": 6,
   "id": "2a941685",
   "metadata": {},
   "outputs": [
    {
     "name": "stdout",
     "output_type": "stream",
     "text": [
      "Tag's Average Distance : 50cm\n"
     ]
    },
    {
     "data": {
      "image/png": "[encoded data removed]",
      "text/plain": [
       "<Figure size 432x288 with 1 Axes>"
      ]
     },
     "metadata": {
      "needs_background": "light"
     },
     "output_type": "display_data"
    }
   ],
   "source": [
    "x = np.arange(5)\n",
    "\n",
    "plt.bar(x, acc_v)\n",
    "plt.xticks(x, spoof_distance)\n",
    "plt.title('Spoofing Attack Detection (Distance)')\n",
    "plt.xlabel('Spoofing Data Distance')\n",
    "plt.ylabel('Detection Accuracy')\n",
    "\n",
    "print(\"Tag's Average Distance : 50cm\")\n",
    "plt.show()"
   ]
  },
  {
   "cell_type": "code",
   "execution_count": 7,
   "id": "e2f3d495",
   "metadata": {},
   "outputs": [
    {
     "name": "stdout",
     "output_type": "stream",
     "text": [
      "Tag's Average RSSI : -65.05599911288535\n"
     ]
    },
    {
     "data": {
      "image/png": "[encoded data removed]",
      "text/plain": [
       "<Figure size 432x288 with 1 Axes>"
      ]
     },
     "metadata": {
      "needs_background": "light"
     },
     "output_type": "display_data"
    }
   ],
   "source": [
    "x = np.arange(5)\n",
    "\n",
    "plt.bar(x, acc_v)\n",
    "plt.xticks(x, spoof_data)\n",
    "plt.title('Spoofing Attack Detection (RSSI)')\n",
    "plt.xlabel('Spoofing Data RSSI')\n",
    "plt.ylabel('Detection Accuracy')\n",
    "\n",
    "print(\"Tag's Average RSSI :\", np.mean(df_rssi))\n",
    "plt.show()"
   ]
  }
 ],
 "metadata": {
  "kernelspec": {
   "display_name": "Python 3",
   "language": "python",
   "name": "python3"
  },
  "language_info": {
   "codemirror_mode": {
    "name": "ipython",
    "version": 3
   },
   "file_extension": ".py",
   "mimetype": "text/x-python",
   "name": "python",
   "nbconvert_exporter": "python",
   "pygments_lexer": "ipython3",
   "version": "3.8.8"
  }
 },
 "nbformat": 4,
 "nbformat_minor": 5
}
